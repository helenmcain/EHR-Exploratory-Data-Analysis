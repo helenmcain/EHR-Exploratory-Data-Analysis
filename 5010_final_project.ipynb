{
  "nbformat": 4,
  "nbformat_minor": 0,
  "metadata": {
    "colab": {
      "provenance": [],
      "collapsed_sections": [
        "sBYxYvhxoZ_0",
        "Ke7ny93x4bJA",
        "o1msUxuOc_iD",
        "scRQeHlkRX2w",
        "7cV50biSa7lA",
        "vC5zZz_tJltT",
        "8K0Ynch1ZoyV",
        "BAMuxI0laAs7",
        "2K_nSfvxOMu5",
        "ADHuupg8RpWo",
        "sfxpgCYdCx9L",
        "-OwlzNNydb-4",
        "wVwlUZapdwu8",
        "kJmInGrAzPj9",
        "-jrpO_AO4ml2",
        "1gjpCy7c1EOC",
        "02MOsKYOEaWq",
        "5MbOGKHl9Bsk",
        "icWv9JzjkcWQ",
        "jUMdb2U_Kbmb",
        "bbN7yMKfcdnt",
        "FLqUDhjHjcao",
        "iiVw951fXVJQ",
        "ZXcvyt3TFsxG",
        "mUdMLyfwejcq"
      ],
      "mount_file_id": "1PzqsYNiSM65yGS6NFlQaV5rFVdlD6mpX",
      "authorship_tag": "ABX9TyMEw8Is1zZ/OAKDMKkHIFtP",
      "include_colab_link": true
    },
    "kernelspec": {
      "name": "python3",
      "display_name": "Python 3"
    },
    "language_info": {
      "name": "python"
    }
  },
  "cells": [
    {
      "cell_type": "markdown",
      "metadata": {
        "id": "view-in-github",
        "colab_type": "text"
      },
      "source": [
        "<a href=\"https://colab.research.google.com/github/helenmcain/EHR-Exploratory-Data-Analysis/blob/main/5010_final_project.ipynb\" target=\"_parent\"><img src=\"https://colab.research.google.com/assets/colab-badge.svg\" alt=\"Open In Colab\"/></a>"
      ]
    },
    {
      "cell_type": "markdown",
      "source": [
        "# Final Project: Examining Hospital Surgery Data\n",
        "\n",
        "Helen Cain\n",
        "\n",
        "DS-5010\n",
        "\n",
        "Northeastern University\n",
        "    \n",
        "Maryam Farahmand, Phd."
      ],
      "metadata": {
        "id": "jOvUPIEAEHzs"
      }
    },
    {
      "cell_type": "code",
      "source": [
        "import pandas as pd\n",
        "import numpy as np\n",
        "import matplotlib.pyplot as plt\n",
        "import seaborn as sns\n",
        "\n",
        "import warnings\n",
        "warnings.filterwarnings('ignore')"
      ],
      "metadata": {
        "id": "Kqq8YQQk9ag4"
      },
      "execution_count": null,
      "outputs": []
    },
    {
      "cell_type": "code",
      "source": [
        "# Avoids scroll-in-the-scroll in the entire Notebook\n",
        "from IPython.display import Javascript\n",
        "def resize_colab_cell():\n",
        "  display(Javascript('google.colab.output.setIframeHeight(0, true, {maxHeight: 5000})'))\n",
        "get_ipython().events.register('pre_run_cell', resize_colab_cell)"
      ],
      "metadata": {
        "id": "glG9GOU-WwHQ"
      },
      "execution_count": null,
      "outputs": []
    },
    {
      "cell_type": "markdown",
      "source": [
        "# About this Dataset\n",
        "\n",
        "MOVER, or [Medical Informatatics Operation Room Vitals and Events Repository](https://mover.ics.uci.edu/documentation.html), is a data repository associated with Univeristy of California, Irvine Medical Center. The dataset compiles the EPIC medical charts of all patients who underwent surgery at the hospital from the years 2017-2022. Due to the size of the repository, it has been split into multiple .csv files, which cover everything from patient demographic information, to medical history, medications, lines and drains administered during surgery, and post-operative complications. For the sake of this project, I will select relevant variables throughout multiple files to combine together, and see which insights I can glean from them."
      ],
      "metadata": {
        "id": "pRH3uUSz7kwF"
      }
    },
    {
      "cell_type": "code",
      "execution_count": null,
      "metadata": {
        "colab": {
          "base_uri": "https://localhost:8080/",
          "height": 311
        },
        "id": "VeHw1nxrhkci",
        "outputId": "f7ba2256-4ae0-45af-b146-a00968cd9723"
      },
      "outputs": [
        {
          "output_type": "display_data",
          "data": {
            "text/plain": [
              "<IPython.core.display.Javascript object>"
            ],
            "application/javascript": [
              "google.colab.output.setIframeHeight(0, true, {maxHeight: 5000})"
            ]
          },
          "metadata": {}
        },
        {
          "output_type": "error",
          "ename": "FileNotFoundError",
          "evalue": "[Errno 2] No such file or directory: '/content/drive/MyDrive/EPIC_EMR/EMR/patient_information.csv'",
          "traceback": [
            "\u001b[0;31m---------------------------------------------------------------------------\u001b[0m",
            "\u001b[0;31mFileNotFoundError\u001b[0m                         Traceback (most recent call last)",
            "\u001b[0;32m/tmp/ipython-input-416919954.py\u001b[0m in \u001b[0;36m<cell line: 0>\u001b[0;34m()\u001b[0m\n\u001b[0;32m----> 1\u001b[0;31m \u001b[0minfo\u001b[0m \u001b[0;34m=\u001b[0m \u001b[0mpd\u001b[0m\u001b[0;34m.\u001b[0m\u001b[0mread_csv\u001b[0m\u001b[0;34m(\u001b[0m\u001b[0;34m'/content/drive/MyDrive/EPIC_EMR/EMR/patient_information.csv'\u001b[0m\u001b[0;34m)\u001b[0m\u001b[0;34m\u001b[0m\u001b[0;34m\u001b[0m\u001b[0m\n\u001b[0m",
            "\u001b[0;32m/usr/local/lib/python3.12/dist-packages/pandas/io/parsers/readers.py\u001b[0m in \u001b[0;36mread_csv\u001b[0;34m(filepath_or_buffer, sep, delimiter, header, names, index_col, usecols, dtype, engine, converters, true_values, false_values, skipinitialspace, skiprows, skipfooter, nrows, na_values, keep_default_na, na_filter, verbose, skip_blank_lines, parse_dates, infer_datetime_format, keep_date_col, date_parser, date_format, dayfirst, cache_dates, iterator, chunksize, compression, thousands, decimal, lineterminator, quotechar, quoting, doublequote, escapechar, comment, encoding, encoding_errors, dialect, on_bad_lines, delim_whitespace, low_memory, memory_map, float_precision, storage_options, dtype_backend)\u001b[0m\n\u001b[1;32m   1024\u001b[0m     \u001b[0mkwds\u001b[0m\u001b[0;34m.\u001b[0m\u001b[0mupdate\u001b[0m\u001b[0;34m(\u001b[0m\u001b[0mkwds_defaults\u001b[0m\u001b[0;34m)\u001b[0m\u001b[0;34m\u001b[0m\u001b[0;34m\u001b[0m\u001b[0m\n\u001b[1;32m   1025\u001b[0m \u001b[0;34m\u001b[0m\u001b[0m\n\u001b[0;32m-> 1026\u001b[0;31m     \u001b[0;32mreturn\u001b[0m \u001b[0m_read\u001b[0m\u001b[0;34m(\u001b[0m\u001b[0mfilepath_or_buffer\u001b[0m\u001b[0;34m,\u001b[0m \u001b[0mkwds\u001b[0m\u001b[0;34m)\u001b[0m\u001b[0;34m\u001b[0m\u001b[0;34m\u001b[0m\u001b[0m\n\u001b[0m\u001b[1;32m   1027\u001b[0m \u001b[0;34m\u001b[0m\u001b[0m\n\u001b[1;32m   1028\u001b[0m \u001b[0;34m\u001b[0m\u001b[0m\n",
            "\u001b[0;32m/usr/local/lib/python3.12/dist-packages/pandas/io/parsers/readers.py\u001b[0m in \u001b[0;36m_read\u001b[0;34m(filepath_or_buffer, kwds)\u001b[0m\n\u001b[1;32m    618\u001b[0m \u001b[0;34m\u001b[0m\u001b[0m\n\u001b[1;32m    619\u001b[0m     \u001b[0;31m# Create the parser.\u001b[0m\u001b[0;34m\u001b[0m\u001b[0;34m\u001b[0m\u001b[0m\n\u001b[0;32m--> 620\u001b[0;31m     \u001b[0mparser\u001b[0m \u001b[0;34m=\u001b[0m \u001b[0mTextFileReader\u001b[0m\u001b[0;34m(\u001b[0m\u001b[0mfilepath_or_buffer\u001b[0m\u001b[0;34m,\u001b[0m \u001b[0;34m**\u001b[0m\u001b[0mkwds\u001b[0m\u001b[0;34m)\u001b[0m\u001b[0;34m\u001b[0m\u001b[0;34m\u001b[0m\u001b[0m\n\u001b[0m\u001b[1;32m    621\u001b[0m \u001b[0;34m\u001b[0m\u001b[0m\n\u001b[1;32m    622\u001b[0m     \u001b[0;32mif\u001b[0m \u001b[0mchunksize\u001b[0m \u001b[0;32mor\u001b[0m \u001b[0miterator\u001b[0m\u001b[0;34m:\u001b[0m\u001b[0;34m\u001b[0m\u001b[0;34m\u001b[0m\u001b[0m\n",
            "\u001b[0;32m/usr/local/lib/python3.12/dist-packages/pandas/io/parsers/readers.py\u001b[0m in \u001b[0;36m__init__\u001b[0;34m(self, f, engine, **kwds)\u001b[0m\n\u001b[1;32m   1618\u001b[0m \u001b[0;34m\u001b[0m\u001b[0m\n\u001b[1;32m   1619\u001b[0m         \u001b[0mself\u001b[0m\u001b[0;34m.\u001b[0m\u001b[0mhandles\u001b[0m\u001b[0;34m:\u001b[0m \u001b[0mIOHandles\u001b[0m \u001b[0;34m|\u001b[0m \u001b[0;32mNone\u001b[0m \u001b[0;34m=\u001b[0m \u001b[0;32mNone\u001b[0m\u001b[0;34m\u001b[0m\u001b[0;34m\u001b[0m\u001b[0m\n\u001b[0;32m-> 1620\u001b[0;31m         \u001b[0mself\u001b[0m\u001b[0;34m.\u001b[0m\u001b[0m_engine\u001b[0m \u001b[0;34m=\u001b[0m \u001b[0mself\u001b[0m\u001b[0;34m.\u001b[0m\u001b[0m_make_engine\u001b[0m\u001b[0;34m(\u001b[0m\u001b[0mf\u001b[0m\u001b[0;34m,\u001b[0m \u001b[0mself\u001b[0m\u001b[0;34m.\u001b[0m\u001b[0mengine\u001b[0m\u001b[0;34m)\u001b[0m\u001b[0;34m\u001b[0m\u001b[0;34m\u001b[0m\u001b[0m\n\u001b[0m\u001b[1;32m   1621\u001b[0m \u001b[0;34m\u001b[0m\u001b[0m\n\u001b[1;32m   1622\u001b[0m     \u001b[0;32mdef\u001b[0m \u001b[0mclose\u001b[0m\u001b[0;34m(\u001b[0m\u001b[0mself\u001b[0m\u001b[0;34m)\u001b[0m \u001b[0;34m->\u001b[0m \u001b[0;32mNone\u001b[0m\u001b[0;34m:\u001b[0m\u001b[0;34m\u001b[0m\u001b[0;34m\u001b[0m\u001b[0m\n",
            "\u001b[0;32m/usr/local/lib/python3.12/dist-packages/pandas/io/parsers/readers.py\u001b[0m in \u001b[0;36m_make_engine\u001b[0;34m(self, f, engine)\u001b[0m\n\u001b[1;32m   1878\u001b[0m                 \u001b[0;32mif\u001b[0m \u001b[0;34m\"b\"\u001b[0m \u001b[0;32mnot\u001b[0m \u001b[0;32min\u001b[0m \u001b[0mmode\u001b[0m\u001b[0;34m:\u001b[0m\u001b[0;34m\u001b[0m\u001b[0;34m\u001b[0m\u001b[0m\n\u001b[1;32m   1879\u001b[0m                     \u001b[0mmode\u001b[0m \u001b[0;34m+=\u001b[0m \u001b[0;34m\"b\"\u001b[0m\u001b[0;34m\u001b[0m\u001b[0;34m\u001b[0m\u001b[0m\n\u001b[0;32m-> 1880\u001b[0;31m             self.handles = get_handle(\n\u001b[0m\u001b[1;32m   1881\u001b[0m                 \u001b[0mf\u001b[0m\u001b[0;34m,\u001b[0m\u001b[0;34m\u001b[0m\u001b[0;34m\u001b[0m\u001b[0m\n\u001b[1;32m   1882\u001b[0m                 \u001b[0mmode\u001b[0m\u001b[0;34m,\u001b[0m\u001b[0;34m\u001b[0m\u001b[0;34m\u001b[0m\u001b[0m\n",
            "\u001b[0;32m/usr/local/lib/python3.12/dist-packages/pandas/io/common.py\u001b[0m in \u001b[0;36mget_handle\u001b[0;34m(path_or_buf, mode, encoding, compression, memory_map, is_text, errors, storage_options)\u001b[0m\n\u001b[1;32m    871\u001b[0m         \u001b[0;32mif\u001b[0m \u001b[0mioargs\u001b[0m\u001b[0;34m.\u001b[0m\u001b[0mencoding\u001b[0m \u001b[0;32mand\u001b[0m \u001b[0;34m\"b\"\u001b[0m \u001b[0;32mnot\u001b[0m \u001b[0;32min\u001b[0m \u001b[0mioargs\u001b[0m\u001b[0;34m.\u001b[0m\u001b[0mmode\u001b[0m\u001b[0;34m:\u001b[0m\u001b[0;34m\u001b[0m\u001b[0;34m\u001b[0m\u001b[0m\n\u001b[1;32m    872\u001b[0m             \u001b[0;31m# Encoding\u001b[0m\u001b[0;34m\u001b[0m\u001b[0;34m\u001b[0m\u001b[0m\n\u001b[0;32m--> 873\u001b[0;31m             handle = open(\n\u001b[0m\u001b[1;32m    874\u001b[0m                 \u001b[0mhandle\u001b[0m\u001b[0;34m,\u001b[0m\u001b[0;34m\u001b[0m\u001b[0;34m\u001b[0m\u001b[0m\n\u001b[1;32m    875\u001b[0m                 \u001b[0mioargs\u001b[0m\u001b[0;34m.\u001b[0m\u001b[0mmode\u001b[0m\u001b[0;34m,\u001b[0m\u001b[0;34m\u001b[0m\u001b[0;34m\u001b[0m\u001b[0m\n",
            "\u001b[0;31mFileNotFoundError\u001b[0m: [Errno 2] No such file or directory: '/content/drive/MyDrive/EPIC_EMR/EMR/patient_information.csv'"
          ]
        }
      ],
      "source": [
        "info = pd.read_csv('/content/drive/MyDrive/EPIC_EMR/EMR/patient_information.csv')"
      ]
    },
    {
      "cell_type": "markdown",
      "source": [
        "The above DataFrame, which we will call \"info\", contains basic information about each surgery, and will be used as the \"base\" Dataframe in our investigation. Each entry represents one surgical procedure performed between 2017 and 2022."
      ],
      "metadata": {
        "id": "yo8cnMh8_4P3"
      }
    },
    {
      "cell_type": "code",
      "source": [
        "# rename columns\n",
        "info.rename(columns={'LOG_ID': 'log_id', 'MRN':'mrn', 'SURGERY_DATE': 'surgery_date',\n",
        "                     'HEIGHT': 'height_ft_in', 'WEIGHT': 'weight_oz', 'SEX' : 'sex',\n",
        "                     'HOSP_ADMSN_TIME': 'hospital_admission', \"HOSP_DISCH_TIME\": 'hospital_discharge',\n",
        "                     'LOS': \"length_of_stay_days\", 'ICU_ADMIN_FLAG': \"icu_admit\", \"BIRTH_DATE\": 'age',\n",
        "                    \"ASA_RATING_C\": 'asa_rating',\n",
        "                     \"PATIENT_CLASS_GROUP\": \"in_outpatient\", \"PRIMARY_PROCEDURE_NM\": \"primary_procedure\",\n",
        "                     \"IN_OR_DTTM\": 'procedure_start',\n",
        "                     \"OUT_OR_DTTM\": 'procedure_end'}, inplace=True)\n",
        "\n",
        "# convert time-series data\n",
        "info[['surgery_date', 'hospital_admission', 'hospital_discharge', 'procedure_start',\n",
        "'procedure_end']] = info[['surgery_date', 'hospital_admission', 'hospital_discharge', 'procedure_start',\n",
        "'procedure_end']].apply(lambda x: pd.to_datetime(x, format = '%m/%d/%y %H:%M'))\n",
        "\n",
        "# drop redundant columns and duplicate entries\n",
        "info.drop(columns= ['DISCH_DISP_C', 'DISCH_DISP', 'ASA_RATING', 'PATIENT_CLASS_NM',\n",
        "                    \"AN_START_DATETIME\", \"AN_STOP_DATETIME\", 'PRIMARY_ANES_TYPE_NM'], inplace=True)\n",
        "info.drop_duplicates(inplace=True)\n",
        "\n",
        "info.info()"
      ],
      "metadata": {
        "id": "FqqC77IOpXxv"
      },
      "execution_count": null,
      "outputs": []
    },
    {
      "cell_type": "markdown",
      "source": [
        "A brief description of each variable:\n",
        "\n",
        "*   log_id: code representing each unique surgery or procedure\n",
        "*   mrn: code representing each unique patient\n",
        "\n",
        "**NOTE:** a single patient who had multiple procedures within the time frame will appear as multiple entries with duplicate MRNs, but unique log ids\n",
        "\n",
        "\n",
        "\n",
        "*   Hospital admission/discharge: date and time that a patient was admitted to/discharged from the hospital\n",
        "*   Length of stay: total time in the hospital in days\n",
        "*   ICU admit: whether or not a patient was admitted to the ICU\n",
        "*   Surgery date\n",
        "*   Age in years\n",
        "*   Height in feet and inches\n",
        "*   Weight in ounces\n",
        "*   Sex (male/female)\n",
        "*   In/Outpatient: Was the surgery inpatient or outpatient?\n",
        "*   Procedure start/end: The exact date and time that the patient entered and left the OR\n",
        "* Primary Procedure: name of the procedure the patient recieved\n",
        "* ASA rating: ASA physical status classification system that determines the fitness of a patient for surgery\n",
        "\n",
        "\n",
        "\n",
        "\n",
        "\n",
        "\n",
        "\n",
        "\n",
        "\n",
        "\n",
        "\n"
      ],
      "metadata": {
        "id": "JhpTGFfbWl3-"
      }
    },
    {
      "cell_type": "code",
      "source": [
        "labs = pd.read_csv('/content/drive/MyDrive/EPIC_EMR/EMR/patient_labs.csv', usecols=['MRN', 'LOG_ID', 'Abnormal Flag'])\n",
        "labs.dropna(inplace=True)\n",
        "labs.rename(columns={'MRN': 'mrn', 'LOG_ID': 'log_id', 'Abnormal Flag':'abnormal_result'}, inplace=True)\n",
        "labs.head()"
      ],
      "metadata": {
        "id": "Q5k3ZNPJX4AY"
      },
      "execution_count": null,
      "outputs": []
    },
    {
      "cell_type": "markdown",
      "source": [
        "The \"labs\" dataframe has an entry for each laboratory test a patient recieved. The \"abnormal result\" column designates whether a patient's test results were within normal range.\n",
        "\n",
        "N = negative/normal\n",
        "\n",
        "L = low\n",
        "\n",
        "H = high\n",
        "\n",
        "LL/HH = critically low or critically high"
      ],
      "metadata": {
        "id": "l0PJKrL5B-OM"
      }
    },
    {
      "cell_type": "code",
      "source": [
        "visit = pd.read_csv('/content/drive/MyDrive/EPIC_EMR/EMR/patient_visit.csv')\n",
        "visit.rename(columns={\"LOG_ID\": \"log_id\"}, inplace=True)\n",
        "visit.drop_duplicates(keep='first', inplace=True)\n",
        "visit.head()"
      ],
      "metadata": {
        "id": "eVD4R6ylHRhg"
      },
      "execution_count": null,
      "outputs": []
    },
    {
      "cell_type": "markdown",
      "source": [
        "The \"visit\" dataset represents diagnoses that patients recieved while at the hospital.\n",
        "\n",
        "* Diagnosis code: the ICD-9 diagnosis code for the condition\n",
        "\n",
        "* DX name: the name of the condition"
      ],
      "metadata": {
        "id": "3dTEqNP4CpBi"
      }
    },
    {
      "cell_type": "markdown",
      "source": [
        "I also used a \"medications\" dataset, where each entry represents a precription that a patient recieved. Due to the size of the dataset, I had to open and process it seperately."
      ],
      "metadata": {
        "id": "3d6S5Wy1EuJi"
      }
    },
    {
      "cell_type": "markdown",
      "source": [
        "All of these files use different indexing systems, which makes it difficult to get a clear picture of each procedure or patient who went through the hospital. Throughout this project, I will look for relationships between variables, and build out a \"patients\" dataset that combines elements of each of these datasets together to provide more holistic \"patient profiles\" of those who recieve treatment."
      ],
      "metadata": {
        "id": "MawuByjzDanQ"
      }
    },
    {
      "cell_type": "markdown",
      "source": [
        "## Question 1:\n",
        "pandas\n",
        "\n",
        "What were the top five procedures for female patients? For male patients?"
      ],
      "metadata": {
        "id": "sBYxYvhxoZ_0"
      }
    },
    {
      "cell_type": "code",
      "source": [
        "female = info[info['sex'] == 'Female']\n",
        "male = info[info['sex'] == 'Male']\n",
        "\n",
        "female_procedures = female.groupby('primary_procedure').size().sort_values(ascending=False)\n",
        "male_procedures = male.groupby('primary_procedure').size().sort_values(ascending=False)\n",
        "\n",
        "display(female_procedures.head())\n",
        "display(male_procedures.head())"
      ],
      "metadata": {
        "id": "qzGquKzzofbg"
      },
      "execution_count": null,
      "outputs": []
    },
    {
      "cell_type": "markdown",
      "source": [
        "## Question 2:\n",
        "pandas, matplotlib, seaborn\n",
        "\n",
        "What time of day is the busiest? Plot a line plot of when during the day surgeries begin and end."
      ],
      "metadata": {
        "id": "Ke7ny93x4bJA"
      }
    },
    {
      "cell_type": "code",
      "source": [
        "start = info.groupby(info['procedure_start'].dt.hour)['log_id'].count().to_frame()\n",
        "end = info.groupby(info['procedure_end'].dt.hour)['log_id'].count().to_frame()\n",
        "\n",
        "day = pd.concat([start, end], axis=1)\n",
        "day.columns = ['start', 'end']\n",
        "\n",
        "plt.figure(figsize=(10, 6))\n",
        "sns.set_style('whitegrid')\n",
        "sns.lineplot(data=day[['start', 'end']], palette='viridis')\n",
        "plt.xlabel('Hour of Day')\n",
        "plt.ylabel('Number of Procedures')\n",
        "plt.title('Start and End Times of Procedures per Hour of Day')\n",
        "plt.xticks(np.arange(0, 24, 1))\n",
        "plt.show()"
      ],
      "metadata": {
        "id": "0xKnAbdS4hGK"
      },
      "execution_count": null,
      "outputs": []
    },
    {
      "cell_type": "markdown",
      "source": [
        "## Question 3:\n",
        "pandas, matplotlib, seaborn\n",
        "\n",
        "Is there a seasonal pattern to the average number of surgeries per month?"
      ],
      "metadata": {
        "id": "o1msUxuOc_iD"
      }
    },
    {
      "cell_type": "code",
      "source": [
        "year_months = info.groupby([info['surgery_date'].dt.year, info['surgery_date'].dt.month])['log_id'].count().to_frame()\n",
        "months = year_months.groupby(level=1).mean()\n",
        "display(months)"
      ],
      "metadata": {
        "id": "diRQYPNAdNqy"
      },
      "execution_count": null,
      "outputs": []
    },
    {
      "cell_type": "code",
      "source": [
        "fig, ax = plt.subplots(figsize=(10, 6))\n",
        "\n",
        "sns.lineplot(data=months, x=months.index, y='log_id', ax=ax, color='teal')\n",
        "ax.set_xlabel('Month')\n",
        "ax.set_ylabel('Average Number of Procedures')\n",
        "ax.set_title('Average Procedures per Month')\n",
        "ax.set_xticks(np.arange(1, 13), labels=['Jan', 'Feb', 'Mar', 'Apr', 'May', 'Jun', 'Jul', 'Aug', 'Sep', 'Oct', 'Nov', 'Dec'])\n",
        "plt.show()"
      ],
      "metadata": {
        "id": "HbAt4vL3eyqF"
      },
      "execution_count": null,
      "outputs": []
    },
    {
      "cell_type": "markdown",
      "source": [
        "There was a spike in the number of procedures performed in the months of September and October."
      ],
      "metadata": {
        "id": "n-8V2ZhsV5I2"
      }
    },
    {
      "cell_type": "markdown",
      "source": [
        "## Question 4:\n",
        "pandas, numpy\n",
        "\n",
        "Which procedures take the longest, on average? The shortest?\n",
        "\n",
        "1. Create a \"surgery length\" column to represent how long each procedure lasts.\n",
        "\n",
        "2. Filter out any procedures with less than thirty instances.\n",
        "\n",
        "3. Find the z-scores of the fastest and shortest surgeries.\n"
      ],
      "metadata": {
        "id": "scRQeHlkRX2w"
      }
    },
    {
      "cell_type": "code",
      "source": [
        "time = info[['log_id', 'primary_procedure', 'procedure_start', 'procedure_end']].copy()\n",
        "time.dropna(subset=['procedure_start', 'procedure_end'], inplace=True)\n",
        "info['surgery_length'] = time['procedure_end'] - time['procedure_start']\n",
        "time_group = info.groupby('primary_procedure')['surgery_length'].agg(['mean', 'count']).sort_values(by='mean', ascending=False)\n",
        "display(time_group.head())"
      ],
      "metadata": {
        "id": "zwcqd-u2RqW8"
      },
      "execution_count": null,
      "outputs": []
    },
    {
      "cell_type": "code",
      "source": [
        "# filter out procedures performed less than thirty times.\n",
        "time_30 = time_group[time_group['count'] >= 30]\n",
        "display(time_30)"
      ],
      "metadata": {
        "id": "N3jAhtqiS0DR"
      },
      "execution_count": null,
      "outputs": []
    },
    {
      "cell_type": "code",
      "source": [
        "mean = np.mean(time_30['mean'])\n",
        "std = np.std(time_30['mean'])\n",
        "z_scores = (time_30['mean'] - mean) / std\n",
        "\n",
        "print(f\"The average length of procedures was {mean.round('s')}\")\n",
        "print(f\"The standard deviation of procedure lengths was {std.round('s')}\")\n",
        "print(f\"The longest average procedure is {z_scores.iloc[0]: .2f} standard devations from the mean\")\n",
        "print(f\"The shortest average procedure is {z_scores.iloc[-1]: .2f} standard deviations from the mean\")"
      ],
      "metadata": {
        "id": "pEZnqXHoViMR"
      },
      "execution_count": null,
      "outputs": []
    },
    {
      "cell_type": "markdown",
      "source": [
        "## Question 5\n",
        "pandas, lambda function, matplotlib, seaborn\n",
        "\n",
        "Propofol is the most commonly used IV general anesthetic. Is there a relationship between weight and Propofol dosage?\n",
        "\n",
        "1. Due to the size of the medication section of the dataset, I had to process it in a separate Jupyter Notebook: [link](https://colab.research.google.com/drive/13L5j6p33vfiS1wLiJSHuTqL94vS3qaD0#scrollTo=_epv8ej0Q-0Q). I created a dataset called 'propfol.csv' with columns for MRN, LOG ID, and the dosage of propofol per procedure.\n",
        "\n",
        "2. Create a new dataset for patients prescribed propofol by merging with the 'propofol.csv' dataset.\n",
        "\n",
        "3. Use a lambda function to convert the weight column from ounces to kilograms.\n",
        "\n",
        "4. Convert propofol dosage from micrograms/kilogram/minute to microgram/minute.\n",
        "\n",
        "5. Plot the relationship with a scatterplot."
      ],
      "metadata": {
        "id": "7cV50biSa7lA"
      }
    },
    {
      "cell_type": "code",
      "source": [
        "# merge datasets\n",
        "propo = pd.read_csv('/content/drive/MyDrive/EPIC_EMR/EMR/propofol.csv')\n",
        "propo.reset_index()\n",
        "propo_patients = pd.merge(info, propo, on=['log_id'], how='inner')\n",
        "\n",
        "# convert weight column\n",
        "propo_patients['weight_oz'] = propo_patients['weight_oz'].apply(lambda x: x / 35.274)\n",
        "propo_patients.rename(columns={'weight_oz': 'weight_kg'}, inplace=True)\n",
        "\n",
        "#convert dosage column\n",
        "propo_patients['propofol_dosage'] = propo_patients['propofol_dosage'] * propo_patients['weight_kg']\n",
        "\n",
        "# scatter plot\n",
        "fig, ax = plt.subplots(figsize=(10, 6))\n",
        "sns.scatterplot(data=propo_patients.sample(500), x='weight_kg', y='propofol_dosage', color='rebeccapurple')\n",
        "plt.title('Relationship Between Weight and Propofol Dosage')\n",
        "plt.xlabel('Weight (kg)')\n",
        "plt.ylabel('Propofol Dosage (mcg/min)')\n",
        "plt.show()"
      ],
      "metadata": {
        "id": "4uQGHYfHbEwg"
      },
      "execution_count": null,
      "outputs": []
    },
    {
      "cell_type": "markdown",
      "source": [
        "## Question 6\n",
        "defined function, pandas, matplotlib, seaborn\n",
        "\n",
        "Does the percentage of patients admitted to the ICU change with age?\n",
        "\n",
        "1. Define a function for calculating the percentage of patients admitted to the ICU by age.\n",
        "2. Plot the relationship using a line plot"
      ],
      "metadata": {
        "id": "vC5zZz_tJltT"
      }
    },
    {
      "cell_type": "code",
      "source": [
        "icu_age = info[['mrn', 'age', 'icu_admit', 'hospital_admission']].copy()\n",
        "icu_age.drop_duplicates(subset=['mrn', 'hospital_admission'], keep='first', inplace=True)\n",
        "icu_age.dropna(subset=['age', 'icu_admit'], inplace=True)\n",
        "\n",
        "def percentage_by_group(df, group_col, target_col, target_value):\n",
        "  '''Creates a DataFrame that groups on a specified column and calculates percentages that fit a target value\n",
        "\n",
        "    Parameters:\n",
        "    df: the source DataFrame\n",
        "    group_col: the column to have .groupby applied to for the new DataFrame\n",
        "    target_col: the column designated for percent calculations\n",
        "    target_value: resulting DataFrame will specify the percentage of entries that match this value'''\n",
        "  total_df = df.groupby(group_col).size()\n",
        "  count_df = df[df[target_col] == target_value].groupby(group_col).size()\n",
        "  percentage_df = pd.merge(total_df.rename('total_count'), count_df.rename(f'{target_value}_count'), on=group_col)\n",
        "  percentage_df[f'{target_value}_percent'] = percentage_df[f'{target_value}_count'] / percentage_df['total_count'] * 100\n",
        "  return percentage_df\n",
        "\n",
        "icu_percent = percentage_by_group(icu_age, 'age', 'icu_admit', 'Yes')\n",
        "icu_percent.rename(columns={'Yes_count': 'icu_count', 'Yes_percent': 'percent_in_icu'}, inplace=True)\n",
        "display(icu_percent)"
      ],
      "metadata": {
        "id": "at4LzbenAgMl"
      },
      "execution_count": null,
      "outputs": []
    },
    {
      "cell_type": "code",
      "source": [
        "icu_percent.reset_index(inplace=True)\n",
        "fig, ax = plt.subplots(figsize=(15, 5))\n",
        "sns.lineplot(data=icu_percent, x='age', y='percent_in_icu', color='darkturquoise')\n",
        "ax.set_title('Percentage of Patients Admitted to the ICU by Age')\n",
        "ax.set_xlabel('Age')\n",
        "ax.set_ylabel('Percentage of Patients Admitted to the ICU')\n",
        "\n",
        "for index, row in icu_percent.iterrows():\n",
        "        plt.text(row['age'],\n",
        "                 row['percent_in_icu'],\n",
        "                 f'{row[\"percent_in_icu\"]:.0f}',\n",
        "                 ha = 'center',\n",
        "                 va = 'bottom',\n",
        "                 color = 'black',\n",
        "                 fontsize = 8)\n",
        "plt.show()"
      ],
      "metadata": {
        "id": "R9i00xTvJlMZ"
      },
      "execution_count": null,
      "outputs": []
    },
    {
      "cell_type": "markdown",
      "source": [
        "The line plot above shows a slight upward trend in ICU admission rates as patients age. The 56% admit rate for seventeen year-old patients may be due to the fact that those under 18 are mostly treated in children's hospitals. The presence of a minor in an adult hospital could indicate a more complex procedure or serious illness."
      ],
      "metadata": {
        "id": "6YoPP42rbIK5"
      }
    },
    {
      "cell_type": "markdown",
      "source": [
        "## Question 7:\n",
        "pandas, matplotlib, lambda functions\n",
        "\n",
        "What proportion of patients fall under each ASA classification?"
      ],
      "metadata": {
        "id": "8K0Ynch1ZoyV"
      }
    },
    {
      "cell_type": "code",
      "source": [
        "asa = info[['mrn', 'log_id', 'asa_rating']].copy()\n",
        "asa.dropna(subset=['asa_rating'], inplace=True)\n",
        "# avoid double counting patients who had multiple surgeries over the same stay\n",
        "asa.drop_duplicates(keep='first', inplace=True)\n",
        "asa_pie=asa['asa_rating'].value_counts(normalize=True).sort_index()\n",
        "asa_pie_percent = asa_pie.apply(lambda x: f'{x * 100:.2f}%')\n",
        "display(asa_pie_percent)"
      ],
      "metadata": {
        "id": "OO2lyzuAZnsk"
      },
      "execution_count": null,
      "outputs": []
    },
    {
      "cell_type": "code",
      "source": [
        "plt.figure(figsize=(8, 8))\n",
        "explode = [0, 0, 0, 0, 0.5, 0.8]\n",
        "asa_pie.plot(kind='pie', cmap='viridis', explode=explode, autopct='%1.1f%%', shadow=True)\n",
        "plt.title('Proportion of Patients with Each ASA Rating')\n",
        "plt.ylabel('')\n",
        "plt.legend(labels=['1 - Healthy', '2 - Mild Systemic Disease', '3 - Severe Systemic Disease',\n",
        "               '4 - Incapacitating Disease', '5 - Moribund', '6 - Brain Dead \\n(organ retrieval)'], loc='lower right')\n",
        "plt.show()"
      ],
      "metadata": {
        "id": "6Jhf0cYlbTtM"
      },
      "execution_count": null,
      "outputs": []
    },
    {
      "cell_type": "markdown",
      "source": [
        "## Question 8:\n",
        "\n",
        "How does the distribution of ASA labels change with age?\n",
        "1. Bin patient data by age group\n",
        "2. Use a stacked bar plot to visualize the the count of various ASA ratings by age group\n"
      ],
      "metadata": {
        "id": "BAMuxI0laAs7"
      }
    },
    {
      "cell_type": "code",
      "source": [
        "info.reset_index(inplace=True)\n",
        "asa_age = info[['mrn', 'log_id', 'age', 'asa_rating']].copy()\n",
        "asa_age.set_index(['mrn', 'log_id'], inplace=True)\n",
        "asa_age.dropna(subset=['asa_rating', 'age'], inplace=True)\n",
        "\n",
        "bins = [0, 25, 45, 66, np.inf]\n",
        "labels = [\"Under 25\", \"25-44\", \"45-65\", \"66+\"]\n",
        "asa_age['age_bin'] = pd.cut(asa_age['age'], bins=bins, labels=labels, right=False)\n",
        "\n",
        "display(asa_age)\n",
        "\n",
        "proportions = asa_age.groupby(['age_bin', 'asa_rating'], as_index=False).count()\n",
        "\n",
        "pivot = proportions.pivot(index='age_bin', columns='asa_rating', values='age')\n",
        "display(pivot)\n",
        "\n",
        "fig, ax = plt.subplots(figsize=(10, 6))\n",
        "pivot.plot(kind='bar', stacked=True, ax=ax, cmap='Accent')\n",
        "ax.set_title('ASA Classification by Age Group')\n",
        "plt.legend(labels=['1 - Healthy', '2 - Mild Systemic Disease', '3 - Severe Systemic Disease',\n",
        "               '4 - Incapacitating Disease', '5 - Moribund', '6 - Brain Dead \\n(organ retrieval)'])\n",
        "ax.set_xlabel('Age Group')\n",
        "ax.tick_params(axis='x', labelrotation=45)\n",
        "ax.set_ylabel('Frequency of ASA Classifications')\n",
        "plt.show()\n"
      ],
      "metadata": {
        "id": "0IfpdO88pbGl"
      },
      "execution_count": null,
      "outputs": []
    },
    {
      "cell_type": "markdown",
      "source": [
        "The proportion of patients with severe systemic disease or in moribund condition appears to increase with age."
      ],
      "metadata": {
        "id": "FobZ98rYTimX"
      }
    },
    {
      "cell_type": "markdown",
      "source": [
        "## Question 9:\n",
        "pandas, numpy, matplotlib, seaborn\n",
        "\n",
        "What is the distribution of the number of procedures per patient?\n",
        "\n",
        "1. Begin construction of the \"patients\" dataset.\n",
        "\n",
        "2. Use numpy to show summary statistics, including mean, median, and maxiumum.\n",
        "\n",
        "3. Plot a histogram with matplotlib and seaborn\n",
        "\n"
      ],
      "metadata": {
        "id": "2K_nSfvxOMu5"
      }
    },
    {
      "cell_type": "code",
      "source": [
        "# new dataset including mrn and total procedures per patient\n",
        "patients = info.groupby('mrn')['log_id'].count().to_frame()\n",
        "patients.rename(columns={'log_id': 'procedures_count'}, inplace=True)\n",
        "display(patients.sort_values(by='procedures_count', ascending=False))"
      ],
      "metadata": {
        "id": "_hpgOjIdNImO"
      },
      "execution_count": null,
      "outputs": []
    },
    {
      "cell_type": "code",
      "source": [
        "# summary statistics\n",
        "print(f'Median number of procedures per patient: {np.median(patients[\"procedures_count\"])}')\n",
        "print(f'Average number of procedures per patient: {np.mean(patients[\"procedures_count\"])}')\n",
        "print(f'Maximum number of procedures per patient: {np.max(patients[\"procedures_count\"])}')"
      ],
      "metadata": {
        "id": "LCER2NFzPGoj"
      },
      "execution_count": null,
      "outputs": []
    },
    {
      "cell_type": "code",
      "source": [
        "# histogram\n",
        "fig, ax = plt.subplots(1, 2, figsize=(10, 6))\n",
        "\n",
        "sns.histplot(data=patients, x='procedures_count', binwidth=5, binrange=(0, 45), color='y',\n",
        "             ax=ax[0])\n",
        "ax[0].set_title('Distribution of Procedures per Patient')\n",
        "ax[0].set_xlabel('Number of Procedures')\n",
        "ax[0].set_ylabel('Frequency')\n",
        "bars = ax[0].containers[0]\n",
        "ax[0].bar_label(bars, labels = [f'{x.get_height()}' for x in bars])\n",
        "\n",
        "# plot distribution of number of stays for patients with under 10 visits\n",
        "sns.histplot(data=patients, x='procedures_count', bins=10, binrange=(1, 11), ax=ax[1], color='y')\n",
        "ax[1].set_title('Distribution of Number of Procedures \\nfor Patients Under 10 Procedures')\n",
        "ax[1].set_xlabel('Number of Procedures')\n",
        "ax[1].set_ylabel('Frequency')\n",
        "ax[1].set_xticks(np.linspace(1, 10, 10))\n",
        "bars = ax[1].containers[0]\n",
        "ax[1].bar_label(bars, labels = [f'{x.get_height()}' for x in bars])\n",
        "plt.tight_layout()\n",
        "fig.show()\n",
        "\n",
        "\n",
        "plt.show()\n"
      ],
      "metadata": {
        "id": "xnYpxYcpPNt4"
      },
      "execution_count": null,
      "outputs": []
    },
    {
      "cell_type": "markdown",
      "source": [
        "The vast majority of patients had under five procedures. One patient had 41 total procedures during the time period, 7 more than the patient with the second most at 34."
      ],
      "metadata": {
        "id": "TYQhu478RFU2"
      }
    },
    {
      "cell_type": "markdown",
      "source": [
        "## Question 10:\n",
        "pandas, numpy, matplotlib, seaborn\n",
        "\n",
        "What is the distribution of the number of hospital visits per patient?\n",
        "\n",
        "1. Add a new column to the patients dataset representing the number of hospital admissions per patient.\n",
        "\n",
        "2. Use numpy to show summary statistics, including mean, median, and maxiumum.\n",
        "\n",
        "3. Plot a histogram with matplotlib and seaborn"
      ],
      "metadata": {
        "id": "ADHuupg8RpWo"
      }
    },
    {
      "cell_type": "code",
      "source": [
        "# new column\n",
        "patients['visits_count'] = info.groupby('mrn')['hospital_admission'].nunique()\n",
        "display(patients.sort_values(by='visits_count', ascending=False))"
      ],
      "metadata": {
        "id": "_KOcqOU10hjt"
      },
      "execution_count": null,
      "outputs": []
    },
    {
      "cell_type": "code",
      "source": [
        "# display summary statistics\n",
        "counts = patients['visits_count']\n",
        "print(f'\\nMedian visits: {np.median(counts)}')\n",
        "print(f'Average visits: {np.mean(counts)}')\n",
        "print(f'Maximum visits: {np.max(counts)}')"
      ],
      "metadata": {
        "id": "XmoYVgHsShlh"
      },
      "execution_count": null,
      "outputs": []
    },
    {
      "cell_type": "code",
      "source": [
        "# plot distribution of number of stays by percentage\n",
        "fig, ax = plt.subplots(1, 2, figsize=(10, 6))\n",
        "\n",
        "sns.histplot(data=patients, x='visits_count', binwidth=5, binrange=(0, 30), ax=ax[0])\n",
        "ax[0].set_title('Distribution of Visits per Patient')\n",
        "ax[0].set_xlabel('Number of Visits')\n",
        "ax[0].set_ylabel('Frequency')\n",
        "bars = ax[0].containers[0]\n",
        "ax[0].bar_label(bars, labels = [f'{x.get_height()}' for x in bars])\n",
        "\n",
        "# plot distribution of number of stays for patients with under 10 visits\n",
        "sns.histplot(data=patients, x='visits_count', bins=10, binrange=(1, 11), ax=ax[1])\n",
        "ax[1].set_title('Distribution of Visits for Patients Under 10 Visits')\n",
        "ax[1].set_xlabel('Number of Visits')\n",
        "ax[1].set_ylabel('Frequency')\n",
        "ax[1].set_xticks(np.linspace(1, 10, 10))\n",
        "bars = ax[1].containers[0]\n",
        "ax[1].bar_label(bars, labels = [f'{x.get_height()}' for x in bars])\n",
        "plt.tight_layout()\n",
        "fig.show()"
      ],
      "metadata": {
        "id": "94ytZOg5SU9T"
      },
      "execution_count": null,
      "outputs": []
    },
    {
      "cell_type": "markdown",
      "source": [
        "According to the above histograms, almost 99% of patients checked in to the hospital less than five times between 2017 and 2022. The patient with the most procedures was also the patient with the most visits: 41 procedures over 28 hospital stays."
      ],
      "metadata": {
        "id": "Yo9lYbUDBlyT"
      }
    },
    {
      "cell_type": "markdown",
      "source": [
        "## Question 11:\n",
        "pandas, numpy, matplotlib, seaborn\n",
        "\n",
        "How many days did patients stay in the hospital on average? How many patients stayed for less than a day? Over night? Less than a week?\n",
        "\n",
        "1. Add a column to the patients DataFrame representing cumulative days in the hospital from 2017-2022\n",
        "2. Divide the patients into bins based on length of stay\n",
        "3. Use numpy to show summary statistics, including mean, median, and maximum\n",
        "4. Plot a bar graph to show distribution with matplotlib and seaborn"
      ],
      "metadata": {
        "id": "sfxpgCYdCx9L"
      }
    },
    {
      "cell_type": "code",
      "source": [
        "# create 'days in hopsital' column\n",
        "temp = info[['mrn', 'hospital_admission', 'length_of_stay_days']].copy()\n",
        "# avoid double-counting by only using one entry per admission date\n",
        "temp.drop_duplicates(subset=['mrn', 'hospital_admission'], inplace=True, keep='first')\n",
        "patients['days_in_hospital'] = temp.groupby('mrn')['length_of_stay_days'].sum().to_frame()\n",
        "\n",
        "# separate into bins and create dataframe column\n",
        "bins = [0, 1, 2, 8, 31, 91, np.inf]\n",
        "labels = ['Less than a day', 'Overnight (1 day)', '2-7 days', '8-30 days', '31-90 days', '91+ days']\n",
        "patients['length_of_stay_bin'] = pd.cut(patients['days_in_hospital'], bins=bins,\n",
        "                                                  labels=labels, right=False)\n",
        "display(patients.loc[:, ['days_in_hospital', 'length_of_stay_bin']])"
      ],
      "metadata": {
        "id": "jXbIFIpk4ldG"
      },
      "execution_count": null,
      "outputs": []
    },
    {
      "cell_type": "code",
      "source": [
        "# summary statistics\n",
        "los_data = patients['days_in_hospital']\n",
        "\n",
        "print(f'\\nMedian days in hospital: {np.median(los_data)}')\n",
        "print(f'Average days in hospital: {np.mean(los_data)}')\n",
        "print(f'Maximum days in hospital: {np.max(los_data)}')"
      ],
      "metadata": {
        "id": "ClKF0_Ic4zy2"
      },
      "execution_count": null,
      "outputs": []
    },
    {
      "cell_type": "code",
      "source": [
        "# plot a countplot of the bins\n",
        "plt.figure(figsize=(10, 6))\n",
        "sns.countplot(x=patients['length_of_stay_bin'], color=\"m\")\n",
        "plt.title('Distribution of Cumulative Days in the Hospital')\n",
        "plt.xlabel('Total Days in Hospital')\n",
        "plt.ylabel('Frequency')\n",
        "plt.show()"
      ],
      "metadata": {
        "id": "N5NynfbTC-Ue"
      },
      "execution_count": null,
      "outputs": []
    },
    {
      "cell_type": "markdown",
      "source": [
        "The mean length of stay was 5.2 days. One patient was in the hospital for 215 days. Generally, the most patients stayed for one day or less."
      ],
      "metadata": {
        "id": "HkqUCvQRc0Y2"
      }
    },
    {
      "cell_type": "markdown",
      "source": [
        "## Question 12:\n",
        "pandas, matplotlib, seaborn\n",
        "\n",
        "For patients recieving inpatient surgery, is there a relationship between age and cumulative number of days in the hospital?\n",
        "\n",
        "1. Add mean age column to the patients dataset.\n",
        "\n",
        "2. Isolate patients who recieved inpatient surgery, and limit the sample to those who stayed in the hospital for less than 30 days.\n",
        "\n",
        "3. Plot the relationship between age and days in hospital with a scatterplot.\n"
      ],
      "metadata": {
        "id": "-OwlzNNydb-4"
      }
    },
    {
      "cell_type": "code",
      "source": [
        "# create 'mean age' column\n",
        "patients['mean_age'] = info.groupby('mrn')['age'].mean()\n",
        "\n",
        "# isolate inpatients who stayed less than 30 days\n",
        "inpatient = info[info['in_outpatient'] == 'Inpatient']['mrn'].to_list()\n",
        "patients_inpatient = patients[patients.index.isin(inpatient)]\n",
        "patients_inpatient = patients_inpatient[patients_inpatient['days_in_hospital'] < 30]\n",
        "\n",
        "# scatter plot\n",
        "patients_sample = patients_inpatient.sample(1000)\n",
        "\n",
        "fig, ax = plt.subplots(figsize=(10, 6))\n",
        "sns.scatterplot(data=patients_sample, x='mean_age', y='days_in_hospital', color='c')\n",
        "ax.set_title('Relationship Between Age and \\nCumulative Days in Hospital for Inpatient Procedures')\n",
        "ax.set_xlabel('Patient Age (average across all procedures)')\n",
        "ax.set_ylabel('Cumulative Days in Hospital')\n",
        "plt.show()"
      ],
      "metadata": {
        "id": "0pBAf5LVWzM5"
      },
      "execution_count": null,
      "outputs": []
    },
    {
      "cell_type": "markdown",
      "source": [
        "There does not appear to be a relationship between age and days in the hospital."
      ],
      "metadata": {
        "id": "catqU_6qXjnO"
      }
    },
    {
      "cell_type": "markdown",
      "source": [
        "## Question 13:\n",
        "Pandas, numpy, seaborn, matplotlib\n",
        "\n",
        "Is there a relationship between age and number of hospital visits?\n",
        "\n",
        "What is the range of number of visits for the oldest and youngest patients? How old was the person who went to the hospital the most?"
      ],
      "metadata": {
        "id": "wVwlUZapdwu8"
      }
    },
    {
      "cell_type": "code",
      "source": [
        "sample = patients.sample(1000)\n",
        "\n",
        "# plot scatter plot\n",
        "plt.figure(figsize=(10, 6))\n",
        "sns.scatterplot(data=patients, x='mean_age', y='visits_count', color='c')\n",
        "plt.title('Relationship Between Age and Number of Visits')\n",
        "plt.xlabel('Age (average across all stays)')\n",
        "plt.ylabel('Number of Visits (2017-2022)')\n",
        "plt.show()\n",
        "\n",
        "# patient with most visits\n",
        "display(patients.loc[patients['visits_count'].idxmax()])\n",
        "# youngest patients\n",
        "youngest = patients[patients['mean_age'] == patients['mean_age'].min()]\n",
        "print(f\"\\nThe youngest recorded patients, at age {np.mean(youngest['mean_age'])}, visited between \"\n",
        "      f\"{np.max(youngest['visits_count'])} and {np.max(youngest['visits_count'])} times between 2017-2022\")\n",
        "#oldest patients\n",
        "oldest = patients[patients['mean_age'] == patients['mean_age'].max()]\n",
        "print(f\"The oldest recorded patients, at age {np.mean(oldest['mean_age'])}, visited between \"\n",
        "      f\"{np.min(oldest['visits_count'])} and {np.max(oldest['visits_count'])} times between 2017-2022\")"
      ],
      "metadata": {
        "id": "uRDAxv70ScsB"
      },
      "execution_count": null,
      "outputs": []
    },
    {
      "cell_type": "markdown",
      "source": [
        "There does not appear to be a strong relationship between age and number of visits to the hospital. The person who had the most stays within the time period (28), was 36 years old."
      ],
      "metadata": {
        "id": "V68TGaVLXw3r"
      }
    },
    {
      "cell_type": "markdown",
      "source": [
        "## Question 14:\n",
        "pandas, matplotlib, seaborn\n",
        "\n",
        "Does using the mean number of visits per age show more of a correlation with number of hospital visits? Plot the relationship using a scatterplot"
      ],
      "metadata": {
        "id": "kJmInGrAzPj9"
      }
    },
    {
      "cell_type": "code",
      "source": [
        "patients['age_floor'] = patients['mean_age'] // 1\n",
        "\n",
        "age_visits = patients.groupby('age_floor')['visits_count'].mean()\n",
        "age_visits.reset_index()\n",
        "display(age_visits)\n",
        "\n",
        "sample = patients.sample(1000)\n",
        "\n",
        "# plot scatter plot\n",
        "plt.figure(figsize=(10, 6))\n",
        "sns.scatterplot(data=sample, x='age_floor', y='visits_count', color='c')\n",
        "plt.title('Average Number of Hospital Visits by Age')\n",
        "plt.xlabel('Age')\n",
        "plt.ylabel('Average number of hospital visits (2017-2022)')\n",
        "plt.show()"
      ],
      "metadata": {
        "id": "172do63RzKOF"
      },
      "execution_count": null,
      "outputs": []
    },
    {
      "cell_type": "markdown",
      "source": [
        "Taking the average for each age does not show a relationship between age and number of hospital visits"
      ],
      "metadata": {
        "id": "7Ucen529zvQy"
      }
    },
    {
      "cell_type": "markdown",
      "source": [
        "## Question 15:\n",
        "numpy, pandas, defined function, seaborn, matplotlib\n",
        "\n",
        "How are the distributions of BMI different between male and female patients?\n",
        "\n",
        "1. Define a function to convert height from feet and inches to inches\n",
        "2. Create a bmi column\n",
        "2. Use numpy to find the median, mean, and standard deviation of BMI by sex.\n",
        "4. Plot histograms of the distribution of BMI by sex"
      ],
      "metadata": {
        "id": "-jrpO_AO4ml2"
      }
    },
    {
      "cell_type": "code",
      "source": [
        "# add sex to the patients dataframe\n",
        "bmi_data = info[['mrn', 'sex', 'height_ft_in', 'weight_oz', 'age' , 'icu_admit']].copy()\n",
        "bmi_data.set_index(['mrn'], inplace=True)\n",
        "patients['sex'] = bmi_data.groupby('mrn').agg(sex=('sex', 'first'))\n",
        "bmi_data.dropna(subset=['sex', 'height_ft_in', 'weight_oz'], inplace=True)\n",
        "\n",
        "def ft_in_to_in(height: str) -> float:\n",
        "  '''converts height in feet and inches into inches'''\n",
        "  ft, inch = height.split(\"'\")\n",
        "  return float(ft) * 12 + float(inch)\n",
        "\n",
        "# convert height, weight\n",
        "bmi_data['height_in'] = bmi_data['height_ft_in'].apply(ft_in_to_in)\n",
        "bmi_data['weight_lb'] = bmi_data['weight_oz'] / 16\n",
        "bmi_data.drop(columns=['height_ft_in', 'weight_oz'], inplace=True)\n",
        "\n",
        "# calculate bmi and add to patients dataframe\n",
        "bmi_data['bmi'] = (bmi_data['weight_lb'] * 703) / (bmi_data['height_in'] ** 2)\n",
        "sbmi_group = bmi_data.groupby('mrn').agg(height_mean=('height_in', 'mean'),\n",
        "                                                      weight_mean=('weight_lb', 'mean'), bmi_mean=('bmi', 'mean'))\n",
        "patients = patients.merge(sbmi_group, on='mrn', how='left')\n",
        "display(patients[['sex', 'height_mean', 'weight_mean', 'bmi_mean']])"
      ],
      "metadata": {
        "id": "eihFOKA973Tl"
      },
      "execution_count": null,
      "outputs": []
    },
    {
      "cell_type": "code",
      "source": [
        "# plot histograms\n",
        "bmi_plot = patients.dropna(subset=['bmi_mean', 'sex'])\n",
        "fig, ax = plt.subplots(figsize=(10, 6))\n",
        "sns.histplot(data=bmi_plot, x='bmi_mean', hue='sex', element='step')\n",
        "ax.set_title('Distribution of BMI by Sex')\n",
        "ax.set_xlabel('BMI')\n",
        "ax.set_ylabel('Frequency')\n",
        "plt.show()"
      ],
      "metadata": {
        "id": "wW__-0PrIGBT"
      },
      "execution_count": null,
      "outputs": []
    },
    {
      "cell_type": "code",
      "source": [
        "print(f'Median BMI for women: {np.median(bmi_plot[bmi_plot[\"sex\"] == \"Female\"][\"bmi_mean\"])}')\n",
        "print(f'Mean BMI for women: {np.mean(bmi_plot[bmi_plot[\"sex\"] == \"Female\"][\"bmi_mean\"])}')\n",
        "print(f'Standard deviation of BMI for women: {np.std(bmi_plot[bmi_plot[\"sex\"] == \"Female\"][\"bmi_mean\"])}')\n",
        "\n",
        "print(f'\\nMedian BMI for men: {np.median(bmi_plot[bmi_plot[\"sex\"] == \"Male\"][\"bmi_mean\"])}')\n",
        "print(f'Mean BMI for men: {np.mean(bmi_plot[bmi_plot[\"sex\"] == \"Male\"][\"bmi_mean\"])}')\n",
        "print(f'Standard deviation of BMI for men: {np.std(bmi_plot[bmi_plot[\"sex\"] == \"Male\"][\"bmi_mean\"])}')"
      ],
      "metadata": {
        "id": "a2oCjoQ4x0Oj"
      },
      "execution_count": null,
      "outputs": []
    },
    {
      "cell_type": "markdown",
      "source": [
        "Women in the dataset have a slightly larger distribution in BMI than men."
      ],
      "metadata": {
        "id": "dnfJr6DxLYH_"
      }
    },
    {
      "cell_type": "markdown",
      "source": [
        "## Question 16:\n",
        "pandas, defined function, matplotlib, seaborn\n",
        "\n",
        "Does BMI affect the number of lab results that are abnormal?\n",
        "\n",
        "1. Define a function that counts the number of abnormal labs per patient\n",
        "\n",
        "2. Bin patient BMI into categories (underweight, obese, ect)\n",
        "\n",
        "3. Plot the relationship with bar charts"
      ],
      "metadata": {
        "id": "1gjpCy7c1EOC"
      }
    },
    {
      "cell_type": "code",
      "source": [
        "def label_counts(df, target_column, group_column, label_list):\n",
        "  '''\n",
        "  Counts the number of values in a target column of a data frame that match\n",
        "  the labels in a list per entry in a user-specified groupby\n",
        "  '''\n",
        "  to_count = df[df[target_column].isin(label_list)]\n",
        "  counts = to_count.groupby(group_column).size()\n",
        "  return counts\n",
        "\n",
        "patients['abnormal_labs'] = label_counts(labs, 'abnormal_result', 'mrn', ['H', 'L'])\n",
        "patients['critical_labs'] = label_counts(labs, 'abnormal_result', 'mrn', ['HH', 'LL'])\n",
        "patients.fillna({'abnormal_labs':0, 'critical_labs': 0}, inplace=True)\n",
        "display(patients[['abnormal_labs', 'critical_labs']])"
      ],
      "metadata": {
        "id": "dEmwEv371AYO"
      },
      "execution_count": null,
      "outputs": []
    },
    {
      "cell_type": "code",
      "source": [
        "# bin patients by bmi category\n",
        "labels = ['Underweight', 'Normal', 'Overweight', 'Obese', 'Severely Obese']\n",
        "bins = [0, 18.5, 25, 30, 40, 100]\n",
        "patients['bmi_category'] = pd.cut(patients['bmi_mean'], bins=bins, labels=labels, right=False)"
      ],
      "metadata": {
        "id": "Ji-eSa_ROnIQ"
      },
      "execution_count": null,
      "outputs": []
    },
    {
      "cell_type": "code",
      "source": [
        "# bar plots\n",
        "fig, ax = plt.subplots(1, 2, figsize=(10, 6))\n",
        "sns.barplot(data=patients, x='bmi_category', y='abnormal_labs', estimator='mean', ax=ax[0], color=\"skyblue\")\n",
        "sns.barplot(data=patients, x='bmi_category', y='critical_labs', estimator='mean', ax=ax[1], color=\"salmon\")\n",
        "ax[0].set_title('Average Abnormal Lab Results by BMI Category')\n",
        "ax[0].set_xlabel('BMI Category')\n",
        "ax[0].set_ylabel('Average Number of Abnormal Lab Results')\n",
        "ax[0].xaxis.set_tick_params(rotation=45)\n",
        "ax[1].set_title('Average Critical Lab Results by BMI Category')\n",
        "ax[1].set_xlabel('BMI Category')\n",
        "ax[1].set_ylabel('Average Number of Critical Lab Results')\n",
        "ax[1].xaxis.set_tick_params(rotation=45)\n",
        "plt.tight_layout()\n",
        "plt.show()"
      ],
      "metadata": {
        "id": "wyzZC8oIQmxm"
      },
      "execution_count": null,
      "outputs": []
    },
    {
      "cell_type": "markdown",
      "source": [
        "Underweight patients generally have the highest average number of lab results outside of the normal range, followed by those with a BMI over 40."
      ],
      "metadata": {
        "id": "m8AKjygISL-V"
      }
    },
    {
      "cell_type": "markdown",
      "source": [
        "## Question 17:\n",
        "numpy, pandas, seaborn, matplotlib\n",
        "\n",
        "Can age or BMI be used to predict whether a patient will be admitted to the ICU? Plot a jointplot to examine the relationship.\n"
      ],
      "metadata": {
        "id": "02MOsKYOEaWq"
      }
    },
    {
      "cell_type": "code",
      "source": [
        "sample = bmi_data.sample(500)\n",
        "\n",
        "jointplot = sns.jointplot(kind='scatter', data=sample, x='age', y='bmi', hue='icu_admit', palette='Set2')\n",
        "jointplot.fig.suptitle('Relationship Between Age, BMI, and ICU Admission')\n",
        "jointplot.set_axis_labels('Age', 'BMI')\n",
        "plt.legend(title='ICU Admission')\n",
        "plt.show()"
      ],
      "metadata": {
        "id": "fybYs3ctEo9u"
      },
      "execution_count": null,
      "outputs": []
    },
    {
      "cell_type": "code",
      "source": [
        "print(f'Average BMI for patients in ICU: {np.mean(bmi_data[bmi_data[\"icu_admit\"] == \"Yes\"][\"bmi\"]) :.2f}')\n",
        "print(f'Median BMI in the ICU: {np.median(bmi_data[bmi_data[\"icu_admit\"] == \"Yes\"][\"bmi\"]) :.2f}')\n",
        "print(f'Average age of patients in the ICU: {np.mean(bmi_data[bmi_data[\"icu_admit\"] == \"Yes\"][\"age\"]) :.2f}')\n",
        "print(f'Median age of patients in the ICU: {np.median(bmi_data[bmi_data[\"icu_admit\"] == \"Yes\"][\"age\"]) :.2f}')\n",
        "\n",
        "print(f'\\nAverage BMI for patients not in ICU: {np.mean(bmi_data[bmi_data[\"icu_admit\"] == \"No\"][\"bmi\"]) :.2f}')\n",
        "print(f'Median BMI for patients not in ICU: {np.median(bmi_data[bmi_data[\"icu_admit\"] == \"No\"][\"bmi\"]) :.2f}')\n",
        "print(f'Average age of patients not in the ICU: {np.mean(bmi_data[bmi_data[\"icu_admit\"] == \"No\"][\"age\"]) :.2f}')\n",
        "print(f'Median age of patients not in the ICU: {np.median(bmi_data[bmi_data[\"icu_admit\"] == \"No\"][\"age\"]) :.2f}')"
      ],
      "metadata": {
        "id": "KaRItUcb0DmX"
      },
      "execution_count": null,
      "outputs": []
    },
    {
      "cell_type": "markdown",
      "source": [
        "There is not a particularly strong correlation between the three variables, though patients in the ICU have a very slightly greater mean age and BMI"
      ],
      "metadata": {
        "id": "EJKk2-L9WG6q"
      }
    },
    {
      "cell_type": "markdown",
      "source": [
        "## Question 18:\n",
        "lambda functions, pandas, matplotlib\n",
        "\n",
        "ICD-9 codes are used to classify diagnoses. There are seventeen main categories of illness or injury, as described in [IC9-data.com](https://www.icd9data.com/2015/Volume1/default.htm). What are the proportions of each of these categories among the conditions treated at the hospital?"
      ],
      "metadata": {
        "id": "5MbOGKHl9Bsk"
      }
    },
    {
      "cell_type": "code",
      "source": [
        "# isolate number-only diagnosis codes (codes containing supplemental infomation begin with E or V)\n",
        "visit.dropna(subset=['diagnosis_code'], inplace=True)\n",
        "visit['diagnosis_code'] = visit['diagnosis_code'].str.replace('.', '')\n",
        "visit_nums = visit[visit['diagnosis_code'].str.isdigit()]\n",
        "visit_nums.loc[:, 'diagnosis_code'] = visit_nums['diagnosis_code'].map(lambda x: x[0:3] + '.' + x[3:])\n",
        "\n",
        "# convert diagnosis codes to floats\n",
        "visit_nums.loc[:, 'diagnosis_code'] = visit_nums['diagnosis_code'].astype('float64')\n",
        "visit_nums.set_index('mrn').sort_index()"
      ],
      "metadata": {
        "id": "e_Isru_m44EP"
      },
      "execution_count": null,
      "outputs": []
    },
    {
      "cell_type": "code",
      "source": [
        "# map diagnoses by ICD-9 category\n",
        "bins = [0, 140, 240, 280, 290, 320, 390, 460, 520, 580,\n",
        "        630, 680, 710, 740, 760, 780, 800, 1000]\n",
        "labels = ['Infectious/Parasitic Diseases', 'Neoplasms',\n",
        "          'Endocrine, Nutritional, Metabolic', 'Blood/Blood-Forming Organs',\n",
        "          'Mental Disorders', 'Nervous System/Sense Organs', 'Circulatory',\n",
        "          'Respiratory', 'Digestive', 'Genitourinary', 'Pregnacy/Childbirth',\n",
        "          'Skin/Subcutatous Tissue', 'Musculoskeletal', 'Congenital Anomalies',\n",
        "          'Perinatal', 'Ill-Defined Conditions', 'Injury/Poisoning']\n",
        "visit_nums.loc[:, 'condition_type'] = pd.cut(visit_nums['diagnosis_code'], bins=bins, labels=labels, right=False)\n",
        "visit_nums.loc[:, 'condition_type'] = visit_nums['condition_type'].astype('object')\n",
        "visit_nums.sort_values(by='mrn', inplace=True)\n",
        "display(visit_nums)"
      ],
      "metadata": {
        "id": "p6uqsPJw-_2N"
      },
      "execution_count": null,
      "outputs": []
    },
    {
      "cell_type": "code",
      "source": [
        "bar = visit_nums.groupby('condition_type').size().reset_index(name='count')\n",
        "fig, ax = plt.subplots(figsize=(15, 10))\n",
        "sns.barplot(data=bar, x='condition_type', y='count', hue='condition_type')\n",
        "ax.set_title('Number of Conditions by Type')\n",
        "ax.set_xlabel('Condition Type')\n",
        "ax.set_ylabel('Frequency')\n",
        "plt.xticks(rotation=45)\n",
        "plt.tight_layout()\n",
        "plt.show()"
      ],
      "metadata": {
        "id": "ONDjD_FTC_y-"
      },
      "execution_count": null,
      "outputs": []
    },
    {
      "cell_type": "code",
      "source": [
        "display(bar.sort_values(by='count', ascending=False)[0:5])"
      ],
      "metadata": {
        "id": "c1j2OM7MOkqs"
      },
      "execution_count": null,
      "outputs": []
    },
    {
      "cell_type": "markdown",
      "source": [
        "The most common conditions diagnosed during surgery-related hospital visits are circulatory conditions, genitournary condtions, neoplasms (cancers), digestive conditions, and injuries or poisonings."
      ],
      "metadata": {
        "id": "0HTTHmbcOv0A"
      }
    },
    {
      "cell_type": "markdown",
      "source": [
        "## Question 19:\n",
        "pandas\n",
        "\n",
        "Which types of diagnoses increased the most in September?\n"
      ],
      "metadata": {
        "id": "icWv9JzjkcWQ"
      }
    },
    {
      "cell_type": "code",
      "source": [
        "# merge dx and surgery info dataframes\n",
        "month_dx = pd.merge(info, visit_nums, on=['mrn', 'log_id'], how='right')\n",
        "month_dx['month'] = month_dx['surgery_date'].dt.month\n",
        "to_pivot = month_dx.groupby(['condition_type', 'month']).size().to_frame('count').reset_index()"
      ],
      "metadata": {
        "id": "tjlqMiqBJLUs"
      },
      "execution_count": null,
      "outputs": []
    },
    {
      "cell_type": "code",
      "source": [
        "pivot = to_pivot.pivot_table(index='condition_type', columns='month', fill_value=0)\n",
        "pivot.head()"
      ],
      "metadata": {
        "id": "hXLW5peS0RCD"
      },
      "execution_count": null,
      "outputs": []
    },
    {
      "cell_type": "code",
      "source": [
        "# calculate deltas between months\n",
        "pivot_delta = pivot.diff(axis=1)\n",
        "pivot_delta = pivot_delta.fillna(0)\n",
        "display(pivot_delta)"
      ],
      "metadata": {
        "id": "04fePjzstWRo"
      },
      "execution_count": null,
      "outputs": []
    },
    {
      "cell_type": "code",
      "source": [
        "pivot_delta = pivot_delta.reindex(pivot_delta['count'].sort_values(by=[9], ascending=False).index)\n",
        "display(pivot_delta.iloc[0:5, 8])"
      ],
      "metadata": {
        "id": "BFCtTbxzy5BT"
      },
      "execution_count": null,
      "outputs": []
    },
    {
      "cell_type": "markdown",
      "source": [
        "## Question 20:\n",
        "pandas\n",
        "\n",
        "What percentage of procedures resulted in post-operative complications?\n",
        "\n"
      ],
      "metadata": {
        "id": "jUMdb2U_Kbmb"
      }
    },
    {
      "cell_type": "code",
      "source": [
        "complications = pd.read_csv('/content/drive/MyDrive/EPIC_EMR/EMR/patient_post_op_complications.csv')\n",
        "complications.rename(columns={'MRN': 'mrn', 'LOG_ID': 'log_id', 'Element_abbr': 'kind'}, inplace=True)\n",
        "complications.drop(columns=['Element_Name', 'CONTEXT_NAME', 'SMRTDTA_ELEM_VALUE'], inplace=True)\n",
        "complications.head()"
      ],
      "metadata": {
        "id": "310kRT4WKawN"
      },
      "execution_count": null,
      "outputs": []
    },
    {
      "cell_type": "code",
      "source": [
        "to_merge = complications[complications['kind'] != 'AN Post-op Complications']\n",
        "to_merge = to_merge.groupby(['mrn', 'log_id'])['kind'].apply(list).to_frame()\n",
        "to_merge.reset_index(inplace=True)\n",
        "to_merge['complications_count'] = to_merge['kind'].apply(lambda x: len(x))\n",
        "to_merge['complications_kind'] = to_merge['kind'].apply(lambda x: list(set(x)))\n",
        "to_merge.drop(columns=['kind'], inplace=True)"
      ],
      "metadata": {
        "id": "2Xoek42fQgbb"
      },
      "execution_count": null,
      "outputs": []
    },
    {
      "cell_type": "code",
      "source": [
        "info = pd.merge(info, to_merge, on=['mrn', 'log_id'], how='left')\n",
        "info.fillna({'complications_count': 0, 'complications_kind': 'None'}, inplace=True)"
      ],
      "metadata": {
        "id": "rodaDdqkRinl"
      },
      "execution_count": null,
      "outputs": []
    },
    {
      "cell_type": "code",
      "source": [
        "percent = len(info[info['complications_count'] > 0])/len(info) * 100\n",
        "print(f'Percentage of patients with post_operative complications: {percent:.2f}%')"
      ],
      "metadata": {
        "id": "Oapc27qMTVED"
      },
      "execution_count": null,
      "outputs": []
    },
    {
      "cell_type": "markdown",
      "source": [
        "## Question 21\n",
        "pandas, matplotlib, seaborn\n",
        "\n",
        "Did male or female patients experience more post-op complications?"
      ],
      "metadata": {
        "id": "bbN7yMKfcdnt"
      }
    },
    {
      "cell_type": "code",
      "source": [
        "comp_age = info.groupby('sex')['complications_count'].sum().to_frame()\n",
        "comp_age.drop(index='Unknown', inplace=True)\n",
        "comp_age.reset_index(inplace=True)\n",
        "fig, ax = plt.subplots(figsize=(10, 6))\n",
        "sns.barplot(data=comp_age, x='sex', y='complications_count', color = 'turquoise')\n",
        "plt.title('Number of Post-operative Complications by Sex')\n",
        "plt.xlabel('Sex')\n",
        "plt.ylabel('Number of Post-operative Complications')\n",
        "plt.show()"
      ],
      "metadata": {
        "id": "4dpOEnoccgxn"
      },
      "execution_count": null,
      "outputs": []
    },
    {
      "cell_type": "markdown",
      "source": [
        "## Question 22\n",
        "pandas, matplotlib\n",
        "\n",
        "Is there a relationship between BMI and whether or not a patient will experience complications?\n",
        "\n",
        "1. Add a complications count to the patients dataset\n",
        "2. Find the percentage of patients in each BMI category who experienced complications\n",
        "3. Plot the relationship with a bar chart."
      ],
      "metadata": {
        "id": "FLqUDhjHjcao"
      }
    },
    {
      "cell_type": "code",
      "source": [
        "# complications count to patients table\n",
        "patients['complications_count'] = info.groupby('mrn')['complications_count'].sum()\n",
        "patients.fillna({'complications_count': 0}, inplace=True)\n",
        "# find percentages\n",
        "bmi_comp = patients.groupby('bmi_category').size().to_frame('total_count')\n",
        "bmi_comp['patients_with_complications'] = patients[patients['complications_count'] > 0].groupby('bmi_category').size()\n",
        "bmi_comp['percent_with_complications'] = bmi_comp['patients_with_complications'] / bmi_comp['total_count'] * 100\n",
        "\n",
        "#plot\n",
        "plt.figure(figsize=(10, 6))\n",
        "bmi_comp['percent_with_complications'].plot(kind='bar', color='forestgreen')\n",
        "plt.title('Percentage of Patients with Complications by BMI Category')\n",
        "plt.xlabel('BMI Category')\n",
        "plt.ylabel('Percentage of Patients with Complications')\n",
        "plt.xticks(rotation=45)\n",
        "plt.show()"
      ],
      "metadata": {
        "id": "IJNQnC2Td-4t"
      },
      "execution_count": null,
      "outputs": []
    },
    {
      "cell_type": "markdown",
      "source": [
        "The percentage of patients with post-operative complications was between 2-4% for all BMI categories."
      ],
      "metadata": {
        "id": "aLJAxWZqjOl-"
      }
    },
    {
      "cell_type": "markdown",
      "source": [
        "## Question 23:\n",
        "self-defined function, numpy, matplotlib, pandas, seaborn\n",
        "\n",
        "Does a patient's ASA rating affect how long they stay in the hospital?\n",
        "1. Define a function for finding the interquartile range with numpy\n",
        "\n",
        "2. Create a series of boxplots to visualize the relationship."
      ],
      "metadata": {
        "id": "iiVw951fXVJQ"
      }
    },
    {
      "cell_type": "code",
      "source": [
        "asa_los = info[['mrn', 'hospital_admission', 'asa_rating', 'length_of_stay_days']].copy()\n",
        "asa_los.dropna(subset=['asa_rating', 'length_of_stay_days'], inplace=True)\n",
        "\n",
        "# avoid double counting by only including one entry per patient and hospital admission\n",
        "g = asa_los.groupby(['mrn', 'hospital_admission']).agg(asa_max=('asa_rating', 'max'),\n",
        "                                                      length_of_stay=('length_of_stay_days', 'mean'))\n",
        "#add maximum asa to the patients table\n",
        "patients['asa_max'] = g['asa_max'].groupby('mrn').max()\n",
        "def iqr(series):\n",
        "  q75, q25 = np.percentile(series, [75, 25])\n",
        "  return q75, q25, q75 - q25\n",
        "\n",
        "healthy = g[g['asa_max'] == 1]['length_of_stay']\n",
        "mild = g[g['asa_max'] == 2]['length_of_stay']\n",
        "severe = g[g['asa_max'] == 3]['length_of_stay']\n",
        "incapacitating = g[g['asa_max'] == 4]['length_of_stay']\n",
        "moribund = g[g['asa_max'] == 5]['length_of_stay']\n",
        "brain_dead = g[g['asa_max'] == 6]['length_of_stay']\n",
        "\n",
        "print(f'IQR for Patients Classified ASA 1: {iqr(healthy)[2]} days ({iqr(healthy)[1]} - {iqr(healthy)[0]})')\n",
        "print(f'IQR for Patients Classified ASA 2: {iqr(mild)[2]} days ({iqr(mild)[1]} - {iqr(mild)[0]})')\n",
        "print(f'IQR for Patients Classified ASA 3: {iqr(severe)[2]} days ({iqr(severe)[1]} - {iqr(severe)[0]})')\n",
        "print(f'IQR for Patients Classified ASA 4: {iqr(incapacitating)[2]} days ({iqr(incapacitating)[1]} - {iqr(incapacitating)[0]})')\n",
        "print(f'IQR for Patients Classified ASA 5: {iqr(moribund)[2]} days ({iqr(moribund)[1]} - {iqr(moribund)[0]})')\n",
        "print(f'IQR for Patients Classified ASA 6: {iqr(brain_dead)[2]} days ({iqr(brain_dead)[1]} - {iqr(brain_dead)[0]})')"
      ],
      "metadata": {
        "id": "bFQpJpjWGx0P"
      },
      "execution_count": null,
      "outputs": []
    },
    {
      "cell_type": "code",
      "source": [
        "# box and strip plots\n",
        "fig, ax = plt.subplots(figsize=(10, 6))\n",
        "sns.boxplot(data=g, x='length_of_stay', y='asa_max', hue='asa_max', orient='y', palette='Set2')\n",
        "sns.stripplot(data=g, x='length_of_stay', y='asa_max', hue='asa_max',\n",
        "              palette='Set2', legend=False, orient='y', linewidth=0.2)\n",
        "ax.set_title('Relationship Between Maximum ASA Classification and Length of Stay')\n",
        "ax.set_xlabel('Length of Stay (days)')\n",
        "ax.set_ylabel('ASA Classification (maximum per stay)')\n",
        "plt.xticks([0, 50, 100, 150, 200, 250])\n",
        "plt.legend(labels=['1 - Healthy', '2 - Mild Systemic Disease', '3 - Severe Systemic Disease',\n",
        "               '4 - Incapacitating Disease', '5 - Moribund', '6 - Brain Dead \\n(organ retrieval)'])\n",
        "\n",
        "plt.show()"
      ],
      "metadata": {
        "id": "fM7RMLqPYH6l"
      },
      "execution_count": null,
      "outputs": []
    },
    {
      "cell_type": "markdown",
      "source": [
        "It appears that both the IQR and total range of the length of hospital stays increases along with the severity of illness. Patients who are brain dead and in the hospital for organ retrieval generally do not stay long."
      ],
      "metadata": {
        "id": "8jHmIlrW5jDB"
      }
    },
    {
      "cell_type": "markdown",
      "source": [
        "## Question 24:\n",
        "pandas, matplotlib, seaborn\n",
        "\n",
        "Does having a higher ASA rating lead to more complications?"
      ],
      "metadata": {
        "id": "ZXcvyt3TFsxG"
      }
    },
    {
      "cell_type": "code",
      "source": [
        "plt.figure(figsize=(10, 6))\n",
        "no_6 = patients[patients['asa_max'] != 6]\n",
        "sns.barplot(data=no_6, y='complications_count', palette='Set2', hue='asa_max',\n",
        "            estimator='mean')\n",
        "plt.title('Average Complications by ASA Rating')\n",
        "plt.ylabel('Number of Complications')\n",
        "plt.xlabel('ASA Classification')\n",
        "plt.show()"
      ],
      "metadata": {
        "id": "H0q4zxXhF0p_"
      },
      "execution_count": null,
      "outputs": []
    },
    {
      "cell_type": "markdown",
      "source": [
        "## Question 25\n",
        "pandas, seaborn\n",
        "\n",
        "Generate a heatmap of all the numerical columns in the patients dataset. Which variables are most highly correlated with the number of days a patient stays in the hospital?"
      ],
      "metadata": {
        "id": "mUdMLyfwejcq"
      }
    },
    {
      "cell_type": "code",
      "source": [
        "patients_corr = patients.drop(columns=['length_of_stay_bin', 'sex', 'bmi_category'])\n",
        "patients_corr.dropna(inplace=True)\n",
        "patients"
      ],
      "metadata": {
        "id": "b3-N8mHQZw5B"
      },
      "execution_count": null,
      "outputs": []
    },
    {
      "cell_type": "code",
      "source": [
        "patients_corr = patients_corr.corr()\n",
        "patients_corr\n",
        "plt.figure(figsize=(10, 6))\n",
        "sns.heatmap(patients_corr, cmap='coolwarm', annot=True)\n",
        "plt.show()"
      ],
      "metadata": {
        "id": "LPJFbfbaeib9"
      },
      "execution_count": null,
      "outputs": []
    },
    {
      "cell_type": "code",
      "source": [
        "# top 3 variables most highly correlated with time spent in the hospital\n",
        "print(patients_corr['days_in_hospital'].sort_values(ascending=False).iloc[1:4])"
      ],
      "metadata": {
        "id": "enRhrR91EmSC"
      },
      "execution_count": null,
      "outputs": []
    },
    {
      "cell_type": "markdown",
      "source": [
        "The number of surgical procedures a patient recieves, and the number of abnormal and critical lab results is the most highly correlated with how long a patient will stay in the hospital."
      ],
      "metadata": {
        "id": "PNuNzQsIgNGr"
      }
    },
    {
      "cell_type": "code",
      "source": [
        "patients.info()"
      ],
      "metadata": {
        "id": "T-HhNB09o6BP"
      },
      "execution_count": null,
      "outputs": []
    },
    {
      "cell_type": "markdown",
      "source": [
        "### Citations:\n",
        "\n",
        "1. Samad M, Angel M, Rinehart J, Kanomata Y, Baldi P, Cannesson M. Medical Informatics Operating Room Vitals and Events Repository (MOVER): a public-access operating room database. JAMIA Open. 2023 Oct 17;6(4):ooad084. doi: 10.1093/jamiaopen/ooad084. PMID: 37860605; PMCID: PMC10582520\n",
        "2. Farahmand, Maryam (2024). Class Modules. Introduction to Programming for Data Science (DS 5010). Northeastern University\n",
        "3. numpy.org\n",
        "4. pandas.pydata.org\n",
        "5. seaborn.pydata.org\n",
        "6. matplotlib.org\n",
        "7. geeksforgeeks.org\n",
        "8. stackoverflow.com"
      ],
      "metadata": {
        "id": "mirPTEsAJyVQ"
      }
    }
  ]
}